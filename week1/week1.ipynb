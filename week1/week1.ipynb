{
  "nbformat": 4,
  "nbformat_minor": 0,
  "metadata": {
    "colab": {
      "provenance": []
    },
    "kernelspec": {
      "name": "python3",
      "display_name": "Python 3"
    },
    "language_info": {
      "name": "python"
    }
  },
  "cells": [
    {
      "cell_type": "code",
      "execution_count": 1,
      "metadata": {
        "id": "iOu_zywDreYq"
      },
      "outputs": [],
      "source": [
        "def lower_triangular(n):\n",
        "    print(\"Lower Triangular:\")\n",
        "    for i in range(1, n + 1):\n",
        "        print('*' * i)\n",
        "    print()"
      ]
    },
    {
      "cell_type": "code",
      "source": [
        "def upper_triangular(n):\n",
        "    print(\"Upper Triangular:\")\n",
        "    for i in range(n, 0, -1):\n",
        "        print('*' * i)\n",
        "    print()"
      ],
      "metadata": {
        "id": "pHwFEvNPrmOS"
      },
      "execution_count": 2,
      "outputs": []
    },
    {
      "cell_type": "code",
      "source": [
        "\n",
        "def pyramid(n):\n",
        "    print(\"Pyramid:\")\n",
        "    for i in range(1, n + 1):\n",
        "        print(' ' * (n - i) + '*' * (2 * i - 1))\n",
        "    print()"
      ],
      "metadata": {
        "id": "7dH5YbOUrmXH"
      },
      "execution_count": 3,
      "outputs": []
    },
    {
      "cell_type": "code",
      "source": [
        "size = 5"
      ],
      "metadata": {
        "id": "w5drIcqRrmZw"
      },
      "execution_count": 4,
      "outputs": []
    },
    {
      "cell_type": "code",
      "source": [
        "lower_triangular(size)\n",
        "upper_triangular(size)\n",
        "pyramid(size)\n"
      ],
      "metadata": {
        "colab": {
          "base_uri": "https://localhost:8080/"
        },
        "id": "xKw8gt7TrmeE",
        "outputId": "e14f0d90-cc16-4bdd-cd6e-47a507807fbc"
      },
      "execution_count": 5,
      "outputs": [
        {
          "output_type": "stream",
          "name": "stdout",
          "text": [
            "Lower Triangular:\n",
            "*\n",
            "**\n",
            "***\n",
            "****\n",
            "*****\n",
            "\n",
            "Upper Triangular:\n",
            "*****\n",
            "****\n",
            "***\n",
            "**\n",
            "*\n",
            "\n",
            "Pyramid:\n",
            "    *\n",
            "   ***\n",
            "  *****\n",
            " *******\n",
            "*********\n",
            "\n"
          ]
        }
      ]
    },
    {
      "cell_type": "code",
      "source": [],
      "metadata": {
        "id": "0A9pg2Narmhj"
      },
      "execution_count": null,
      "outputs": []
    }
  ]
}